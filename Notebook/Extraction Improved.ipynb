{
 "cells": [
  {
   "cell_type": "markdown",
   "metadata": {},
   "source": [
    "## Import Essential Modules"
   ]
  },
  {
   "cell_type": "code",
   "execution_count": null,
   "metadata": {},
   "outputs": [],
   "source": [
    "import os\n",
    "import numpy as np\n",
    "import pickle\n",
    "import warnings\n",
    "warnings.filterwarnings(\"ignore\")\n",
    "import matplotlib\n",
    "matplotlib.use('Qt5Agg')\n",
    "import matplotlib.pyplot as plt\n",
    "from matplotlib import gridspec\n",
    "plt.ion()\n",
    "\n",
    "import pandas as pd\n",
    "from datetime import datetime\n",
    "\n",
    "# CoastSat\n",
    "from coastsat import SDS_download, SDS_preprocess, SDS_shoreline, SDS_tools, SDS_transects, SDS_islands\n",
    "\n",
    "# Essential functions and classes from local directory\n",
    "from functions import *\n",
    "from MapData import *"
   ]
  },
  {
   "cell_type": "markdown",
   "metadata": {},
   "source": [
    "## Get Shoreline Data"
   ]
  },
  {
   "cell_type": "markdown",
   "metadata": {},
   "source": [
    "### India"
   ]
  },
  {
   "cell_type": "code",
   "execution_count": null,
   "metadata": {},
   "outputs": [],
   "source": [
    "# region of interest (latitude, longitude) - similar to Google\n",
    "polygon = [[[11.918064, 79.807870],\n",
    "            [11.915689, 79.841008],\n",
    "            [11.853804, 79.841008],\n",
    "            [11.863664, 79.801801],\n",
    "            [11.918064, 79.807870]]]\n",
    "\n",
    "india = MapData('India', polygon, ['2004-11-01', '2005-02-01'], 'L5')\n",
    "indiaInputs = india.getData()"
   ]
  },
  {
   "cell_type": "code",
   "execution_count": null,
   "metadata": {},
   "outputs": [],
   "source": [
    "# before downloading the images, check how many images are available for your inputs\n",
    "SDS_download.check_images_available(indiaInputs);"
   ]
  },
  {
   "cell_type": "code",
   "execution_count": null,
   "metadata": {},
   "outputs": [],
   "source": [
    "# inputs['include_T2'] = True # set to True to include Tier 2 shots, but Tier 1 is suffix for time-series\n",
    "indiaMetadata = SDS_download.retrieve_images(indiaInputs)"
   ]
  },
  {
   "cell_type": "code",
   "execution_count": null,
   "metadata": {},
   "outputs": [],
   "source": [
    "SDS_preprocess.save_jpg(indiaMetadata, settings(indiaInputs))"
   ]
  },
  {
   "cell_type": "code",
   "execution_count": null,
   "metadata": {},
   "outputs": [],
   "source": [
    "%matplotlib qt\n",
    "indiaOutput = SDS_shoreline.extract_shorelines(indiaMetadata, settings(indiaInputs))"
   ]
  },
  {
   "cell_type": "code",
   "execution_count": null,
   "metadata": {},
   "outputs": [],
   "source": [
    "plotHistoricalShorelines(indiaOutput, 'India L5')"
   ]
  },
  {
   "cell_type": "markdown",
   "metadata": {},
   "source": [
    "### Phuket, Thailand"
   ]
  },
  {
   "cell_type": "code",
   "execution_count": null,
   "metadata": {},
   "outputs": [],
   "source": [
    "# region of interest (longitude, latitude)\n",
    "polygon_Thai = [[[8.191042, 98.279705],\n",
    "                 [8.124054, 98.282767],\n",
    "                 [8.122740, 98.315021],\n",
    "                 [8.191042, 98.312469],\n",
    "                 [8.191042, 98.279705]]]\n",
    "\n",
    "thailand = MapData('Thailand', polygon_Thai, ['2004-09-01', '2005-02-01'], 'L5')\n",
    "inputsThailand = thailand.getData()"
   ]
  },
  {
   "cell_type": "code",
   "execution_count": null,
   "metadata": {},
   "outputs": [],
   "source": [
    "SDS_download.check_images_available(inputsThailand);"
   ]
  },
  {
   "cell_type": "code",
   "execution_count": null,
   "metadata": {},
   "outputs": [],
   "source": [
    "thailandMetadata = SDS_download.retrieve_images(inputsThailand)"
   ]
  },
  {
   "cell_type": "code",
   "execution_count": null,
   "metadata": {},
   "outputs": [],
   "source": [
    "SDS_preprocess.save_jpg(thailandMetadata, settings(inputsThailand))"
   ]
  },
  {
   "cell_type": "code",
   "execution_count": null,
   "metadata": {},
   "outputs": [],
   "source": [
    "%matplotlib qt\n",
    "thailandOutput = SDS_shoreline.extract_shorelines(thailandMetadata, settings(inputsThailand))"
   ]
  },
  {
   "cell_type": "code",
   "execution_count": null,
   "metadata": {},
   "outputs": [],
   "source": [
    "plotHistoricalShorelines(thailandOutput, 'Thailand L5')"
   ]
  },
  {
   "cell_type": "markdown",
   "metadata": {},
   "source": [
    "### The Philippines - San Jose"
   ]
  },
  {
   "cell_type": "code",
   "execution_count": null,
   "metadata": {},
   "outputs": [],
   "source": [
    "# region of interest (longitude, latitude)\n",
    "polygon_sanjose = [[[11.403159, 125.592731],\n",
    "                    [11.322474, 125.592124],\n",
    "                    [11.321760, 125.638371],\n",
    "                    [11.403278, 125.638492],\n",
    "                    [11.403159, 125.592731]]]\n",
    "\n",
    "sanJose = MapData('San Jose', polygon_sanjose, ['2013-08-01', '2014-03-01'], 'L8')\n",
    "inputsSanJose = sanJose.getData()"
   ]
  },
  {
   "cell_type": "code",
   "execution_count": null,
   "metadata": {},
   "outputs": [],
   "source": [
    "SDS_download.check_images_available(inputsSanJose);"
   ]
  },
  {
   "cell_type": "code",
   "execution_count": null,
   "metadata": {},
   "outputs": [],
   "source": [
    "sanJoseMetadata = SDS_download.retrieve_images(inputsSanJose)"
   ]
  },
  {
   "cell_type": "code",
   "execution_count": null,
   "metadata": {},
   "outputs": [],
   "source": [
    "SDS_preprocess.save_jpg(sanJoseMetadata, settings(inputsSanJose))"
   ]
  },
  {
   "cell_type": "code",
   "execution_count": null,
   "metadata": {},
   "outputs": [],
   "source": [
    "%matplotlib qt\n",
    "sanJoseOutput = SDS_shoreline.extract_shorelines(sanJoseMetadata, settings(inputsSanJose))"
   ]
  },
  {
   "cell_type": "code",
   "execution_count": null,
   "metadata": {},
   "outputs": [],
   "source": [
    "plotHistoricalShorelines(sanJoseOutput, 'San Jose L8')"
   ]
  },
  {
   "cell_type": "markdown",
   "metadata": {},
   "source": [
    "### The Philipines - Tanauan"
   ]
  },
  {
   "cell_type": "code",
   "execution_count": null,
   "metadata": {},
   "outputs": [],
   "source": [
    "# region of interest (longitude, latitude)\n",
    "polygonTanauan = [[[11.114658, 125.017687],\n",
    "                   [11.114489, 125.026614],\n",
    "                   [11.089896, 125.025841],\n",
    "                   [11.089896, 125.015713],\n",
    "                   [11.114658, 125.017687]]]\n",
    "\n",
    "Tanauan = MapData('Tanauan', polygonTanauan, ['2013-09-01', '2014-03-01'], 'L8')\n",
    "inputsTanauan = Tanauan.getData()"
   ]
  },
  {
   "cell_type": "code",
   "execution_count": null,
   "metadata": {
    "scrolled": true
   },
   "outputs": [],
   "source": [
    "SDS_download.check_images_available(inputsTanauan);"
   ]
  },
  {
   "cell_type": "code",
   "execution_count": null,
   "metadata": {},
   "outputs": [],
   "source": [
    "metadataTanauan = SDS_download.retrieve_images(inputsTanauan)"
   ]
  },
  {
   "cell_type": "code",
   "execution_count": null,
   "metadata": {},
   "outputs": [],
   "source": [
    "SDS_preprocess.save_jpg(metadataTanauan, settings(inputsTanauan))"
   ]
  },
  {
   "cell_type": "code",
   "execution_count": null,
   "metadata": {},
   "outputs": [],
   "source": [
    "%matplotlib qt\n",
    "TanauanOutput = SDS_shoreline.extract_shorelines(metadataTanauan, settings(inputsTanauan))"
   ]
  },
  {
   "cell_type": "code",
   "execution_count": null,
   "metadata": {},
   "outputs": [],
   "source": [
    "plotHistoricalShorelines(TanauanOutput, 'Tanauan L8')"
   ]
  },
  {
   "cell_type": "markdown",
   "metadata": {},
   "source": [
    "### Northeast India "
   ]
  },
  {
   "cell_type": "code",
   "execution_count": null,
   "metadata": {},
   "outputs": [],
   "source": [
    "polygonNorthEastIndia = [[[21.405579, 86.912157],\n",
    "                          [21.407192, 87.015511],\n",
    "                          [21.241529, 87.023018],\n",
    "                          [21.241529, 86.912157],\n",
    "                          [21.405579, 86.912157]]]\n",
    "\n",
    "# wanted originally\n",
    "# polygonNorthEastIndia = [[[21.584511, 86.106410],\n",
    "#                           [21.477409, 87.218279],\n",
    "#                           [21.122885, 87.810814],\n",
    "#                           [21.219589, 86.652401],\n",
    "#                           [21.584511, 86.106410]]]\n",
    "\n",
    "northEastIndia = MapData('NorthEast India', polygonNorthEastIndia, ['2020-05-01', '2020-06-15'], 'S2')\n",
    "inputsNorthEastIndia = northEastIndia.getData()"
   ]
  },
  {
   "cell_type": "code",
   "execution_count": null,
   "metadata": {},
   "outputs": [],
   "source": [
    "SDS_download.check_images_available(inputsNorthEastIndia);"
   ]
  },
  {
   "cell_type": "code",
   "execution_count": null,
   "metadata": {},
   "outputs": [],
   "source": [
    "metadataNorthEastIndia = SDS_download.retrieve_images(inputsNorthEastIndia)"
   ]
  },
  {
   "cell_type": "code",
   "execution_count": null,
   "metadata": {},
   "outputs": [],
   "source": [
    "SDS_preprocess.save_jpg(metadataNorthEastIndia, settings(inputsNorthEastIndia))"
   ]
  },
  {
   "cell_type": "code",
   "execution_count": null,
   "metadata": {},
   "outputs": [],
   "source": [
    "%matplotlib qt\n",
    "NorthEastIndiaOutput = SDS_shoreline.extract_shorelines(metadataNorthEastIndia, settings(inputsNorthEastIndia))"
   ]
  },
  {
   "cell_type": "code",
   "execution_count": null,
   "metadata": {},
   "outputs": [],
   "source": [
    "plotHistoricalShorelines(NorthEastIndiaOutput, 'NorthEast India S2')"
   ]
  },
  {
   "cell_type": "markdown",
   "metadata": {},
   "source": [
    "### Hong Kong"
   ]
  },
  {
   "cell_type": "code",
   "execution_count": null,
   "metadata": {},
   "outputs": [],
   "source": [
    "# region of interest (longitude, latitude)\n",
    "# polygonHongKong = [[[11.114658, 125.017687],\n",
    "#                    [11.114489, 125.026614],\n",
    "#                    [11.089896, 125.025841],\n",
    "#                    [11.089896, 125.015713],\n",
    "#                    [11.114658, 125.017687]]]\n",
    "\n",
    "HongKong = MapData('Hong Kong', polygonHongKong, ['2013-09-01', '2014-01-01'], 'L5')\n",
    "inputsHongKong = HongKong.getData()"
   ]
  },
  {
   "cell_type": "code",
   "execution_count": null,
   "metadata": {},
   "outputs": [],
   "source": [
    "SDS_download.check_images_available(inputsTanauan);"
   ]
  },
  {
   "cell_type": "code",
   "execution_count": null,
   "metadata": {},
   "outputs": [],
   "source": [
    "metadataTanauan = SDS_download.retrieve_images(inputsTanauan)"
   ]
  },
  {
   "cell_type": "code",
   "execution_count": null,
   "metadata": {},
   "outputs": [],
   "source": [
    "SDS_preprocess.save_jpg(metadataTanauan, settings(inputsTanauan))"
   ]
  },
  {
   "cell_type": "code",
   "execution_count": null,
   "metadata": {},
   "outputs": [],
   "source": [
    "%matplotlib qt\n",
    "TanauanOutput = SDS_shoreline.extract_shorelines(metadataTanauan, settings(inputsTanauan))"
   ]
  },
  {
   "cell_type": "code",
   "execution_count": null,
   "metadata": {},
   "outputs": [],
   "source": [
    "plotHistoricalShorelines(TanauanOutput, 'Tanauan')"
   ]
  },
  {
   "cell_type": "code",
   "execution_count": null,
   "metadata": {},
   "outputs": [],
   "source": []
  }
 ],
 "metadata": {
  "kernelspec": {
   "display_name": "Python 3",
   "language": "python",
   "name": "python3"
  },
  "language_info": {
   "codemirror_mode": {
    "name": "ipython",
    "version": 3
   },
   "file_extension": ".py",
   "mimetype": "text/x-python",
   "name": "python",
   "nbconvert_exporter": "python",
   "pygments_lexer": "ipython3",
   "version": "3.7.9"
  }
 },
 "nbformat": 4,
 "nbformat_minor": 4
}
