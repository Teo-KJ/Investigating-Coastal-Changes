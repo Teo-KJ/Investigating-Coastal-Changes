{
 "cells": [
  {
   "cell_type": "markdown",
   "metadata": {},
   "source": [
    "## Import Essential Modules"
   ]
  },
  {
   "cell_type": "code",
   "execution_count": 1,
   "metadata": {},
   "outputs": [
    {
     "name": "stderr",
     "output_type": "stream",
     "text": [
      "\n",
      "Bad key savefig.frameon in file C:\\Users\\tkjie\\anaconda3\\envs\\coastsat\\lib\\site-packages\\matplotlib\\mpl-data\\stylelib\\_classic_test.mplstyle, line 421 ('savefig.frameon : True')\n",
      "You probably need to get an updated matplotlibrc file from\n",
      "https://github.com/matplotlib/matplotlib/blob/v3.3.2/matplotlibrc.template\n",
      "or from the matplotlib source distribution\n",
      "\n",
      "Bad key verbose.level in file C:\\Users\\tkjie\\anaconda3\\envs\\coastsat\\lib\\site-packages\\matplotlib\\mpl-data\\stylelib\\_classic_test.mplstyle, line 472 ('verbose.level  : silent      # one of silent, helpful, debug, debug-annoying')\n",
      "You probably need to get an updated matplotlibrc file from\n",
      "https://github.com/matplotlib/matplotlib/blob/v3.3.2/matplotlibrc.template\n",
      "or from the matplotlib source distribution\n",
      "\n",
      "Bad key verbose.fileo in file C:\\Users\\tkjie\\anaconda3\\envs\\coastsat\\lib\\site-packages\\matplotlib\\mpl-data\\stylelib\\_classic_test.mplstyle, line 473 ('verbose.fileo  : sys.stdout  # a log filename, sys.stdout or sys.stderr')\n",
      "You probably need to get an updated matplotlibrc file from\n",
      "https://github.com/matplotlib/matplotlib/blob/v3.3.2/matplotlibrc.template\n",
      "or from the matplotlib source distribution\n"
     ]
    }
   ],
   "source": [
    "import os\n",
    "import numpy as np\n",
    "import pickle\n",
    "import warnings\n",
    "warnings.filterwarnings(\"ignore\")\n",
    "import matplotlib\n",
    "matplotlib.use('Qt5Agg')\n",
    "import matplotlib.pyplot as plt\n",
    "from matplotlib import gridspec\n",
    "plt.ion()\n",
    "\n",
    "import pandas as pd\n",
    "from datetime import datetime\n",
    "\n",
    "# CoastSat\n",
    "from coastsat import SDS_download, SDS_preprocess, SDS_shoreline, SDS_tools, SDS_transects\n",
    "\n",
    "# Essential functions and classes from local directory\n",
    "from functions import *\n",
    "from MapData import *"
   ]
  },
  {
   "cell_type": "markdown",
   "metadata": {},
   "source": [
    "## Get Shoreline Data"
   ]
  },
  {
   "cell_type": "markdown",
   "metadata": {},
   "source": [
    "### India"
   ]
  },
  {
   "cell_type": "code",
   "execution_count": 2,
   "metadata": {},
   "outputs": [],
   "source": [
    "# region of interest (latitude, longitude) - similar to Google\n",
    "polygon = [[[11.918064, 79.807870],\n",
    "            [11.915689, 79.841008],\n",
    "            [11.853804, 79.841008],\n",
    "            [11.863664, 79.801801],\n",
    "            [11.918064, 79.807870]]]\n",
    "\n",
    "# india = MapData('India', polygon, ['2004-11-01', '2005-02-01'], 'L7')\n",
    "india = MapData('India', polygon, ['2020-12-01', '2021-05-01'], 'S2')\n",
    "indiaInputs = india.getData()"
   ]
  },
  {
   "cell_type": "code",
   "execution_count": 3,
   "metadata": {},
   "outputs": [
    {
     "name": "stdout",
     "output_type": "stream",
     "text": [
      "Images available between 2004-11-01 and 2005-02-01:\n",
      "- In Landsat Tier 1 & Sentinel-2 Level-1C:\n",
      "  L7: 3 images\n",
      "  Total: 3 images\n",
      "- In Landsat Tier 2:\n",
      "  L7: 3 images\n",
      "  Total: 3 images\n"
     ]
    }
   ],
   "source": [
    "# before downloading the images, check how many images are available for your inputs\n",
    "SDS_download.check_images_available(indiaInputs);"
   ]
  },
  {
   "cell_type": "code",
   "execution_count": 4,
   "metadata": {},
   "outputs": [
    {
     "name": "stdout",
     "output_type": "stream",
     "text": [
      "Images available between 2004-11-01 and 2005-02-01:\n",
      "- In Landsat Tier 1 & Sentinel-2 Level-1C:\n",
      "  L7: 3 images\n",
      "  Total: 3 images\n",
      "- In Landsat Tier 2:\n",
      "  L7: 3 images\n",
      "  Total: 3 images\n",
      "\n",
      "Downloading images:\n",
      "L7: 3 images\n",
      "100%\n"
     ]
    }
   ],
   "source": [
    "# inputs['include_T2'] = True # set to True to include Tier 2 shots, but Tier 1 is suffix for time-series\n",
    "indiaMetadata = SDS_download.retrieve_images(indiaInputs)"
   ]
  },
  {
   "cell_type": "code",
   "execution_count": 5,
   "metadata": {},
   "outputs": [
    {
     "name": "stdout",
     "output_type": "stream",
     "text": [
      "Satellite images saved as .jpg in C:\\Users\\tkjie\\Documents\\GitHub\\Shoreline-Detection-Project\\Notebook\\extracted data\\India L7\\jpg_files\\preprocessed\n"
     ]
    }
   ],
   "source": [
    "SDS_preprocess.save_jpg(indiaMetadata, settings(indiaInputs))"
   ]
  },
  {
   "cell_type": "code",
   "execution_count": 6,
   "metadata": {},
   "outputs": [
    {
     "name": "stdout",
     "output_type": "stream",
     "text": [
      "Mapping shorelines:\n",
      "L7:   100%\n"
     ]
    }
   ],
   "source": [
    "%matplotlib qt\n",
    "indiaOutput = SDS_shoreline.extract_shorelines(indiaMetadata, settings(indiaInputs))"
   ]
  },
  {
   "cell_type": "code",
   "execution_count": 7,
   "metadata": {},
   "outputs": [],
   "source": [
    "plotHistoricalShorelines(indiaOutput, 'India')"
   ]
  },
  {
   "cell_type": "markdown",
   "metadata": {},
   "source": [
    "### Phuket, Thailand"
   ]
  },
  {
   "cell_type": "code",
   "execution_count": 16,
   "metadata": {},
   "outputs": [],
   "source": [
    "# region of interest (longitude, latitude)\n",
    "polygon_Thai = [[[8.191042, 98.279705],\n",
    "                 [8.124054, 98.282767],\n",
    "                 [8.122740, 98.315021],\n",
    "                 [8.191042, 98.312469],\n",
    "                 [8.191042, 98.279705]]]\n",
    "\n",
    "thailand = MapData('Thailand', polygon_Thai, ['2004-11-01', '2005-02-01'], 'L7')\n",
    "inputsThailand = thailand.getData()"
   ]
  },
  {
   "cell_type": "code",
   "execution_count": 17,
   "metadata": {},
   "outputs": [
    {
     "name": "stdout",
     "output_type": "stream",
     "text": [
      "Images available between 2004-11-01 and 2005-02-01:\n",
      "- In Landsat Tier 1 & Sentinel-2 Level-1C:\n",
      "  L7: 6 images\n",
      "  Total: 6 images\n",
      "- In Landsat Tier 2:\n",
      "  L7: 0 images\n",
      "  Total: 0 images\n"
     ]
    }
   ],
   "source": [
    "SDS_download.check_images_available(inputsThailand);"
   ]
  },
  {
   "cell_type": "code",
   "execution_count": 18,
   "metadata": {},
   "outputs": [
    {
     "name": "stdout",
     "output_type": "stream",
     "text": [
      "Images available between 2004-11-01 and 2005-02-01:\n",
      "- In Landsat Tier 1 & Sentinel-2 Level-1C:\n",
      "  L7: 6 images\n",
      "  Total: 6 images\n",
      "- In Landsat Tier 2:\n",
      "  L7: 0 images\n",
      "  Total: 0 images\n",
      "\n",
      "Downloading images:\n",
      "L7: 6 images\n",
      "100%\n"
     ]
    }
   ],
   "source": [
    "thailandMetadata = SDS_download.retrieve_images(inputsThailand)"
   ]
  },
  {
   "cell_type": "code",
   "execution_count": 19,
   "metadata": {},
   "outputs": [
    {
     "name": "stdout",
     "output_type": "stream",
     "text": [
      "Satellite images saved as .jpg in C:\\Users\\tkjie\\Documents\\GitHub\\Shoreline-Detection-Project\\Notebook\\extracted data\\Thailand L7\\jpg_files\\preprocessed\n"
     ]
    }
   ],
   "source": [
    "SDS_preprocess.save_jpg(thailandMetadata, settings(inputsThailand))"
   ]
  },
  {
   "cell_type": "code",
   "execution_count": 20,
   "metadata": {},
   "outputs": [
    {
     "name": "stdout",
     "output_type": "stream",
     "text": [
      "Mapping shorelines:\n",
      "L7:   100%\n"
     ]
    }
   ],
   "source": [
    "%matplotlib qt\n",
    "thailandOutput = SDS_shoreline.extract_shorelines(thailandMetadata, settings(inputsThailand))"
   ]
  },
  {
   "cell_type": "code",
   "execution_count": 21,
   "metadata": {},
   "outputs": [],
   "source": [
    "plotHistoricalShorelines(thailandOutput, 'Thailand')"
   ]
  },
  {
   "cell_type": "markdown",
   "metadata": {},
   "source": [
    "### The Philippines - San Jose"
   ]
  },
  {
   "cell_type": "code",
   "execution_count": 2,
   "metadata": {},
   "outputs": [],
   "source": [
    "# region of interest (longitude, latitude)\n",
    "polygon_sanjose = [[[11.403159, 125.592731],\n",
    "                   [11.322474, 125.592124],\n",
    "                   [11.321760, 125.638371],\n",
    "                   [11.403278, 125.638492],\n",
    "                   [11.403159, 125.592731]]]\n",
    "\n",
    "sanJose = MapData('San Jose', polygon_sanjose, ['2013-09-01', '2014-01-01'], 'L7')\n",
    "inputsSanJose = sanJose.getData()"
   ]
  },
  {
   "cell_type": "code",
   "execution_count": 3,
   "metadata": {},
   "outputs": [
    {
     "name": "stdout",
     "output_type": "stream",
     "text": [
      "Images available between 2013-09-01 and 2014-01-01:\n",
      "- In Landsat Tier 1 & Sentinel-2 Level-1C:\n",
      "  L7: 9 images\n",
      "  Total: 9 images\n",
      "- In Landsat Tier 2:\n",
      "  L7: 2 images\n",
      "  Total: 2 images\n"
     ]
    }
   ],
   "source": [
    "SDS_download.check_images_available(inputsSanJose);"
   ]
  },
  {
   "cell_type": "code",
   "execution_count": 4,
   "metadata": {},
   "outputs": [
    {
     "name": "stdout",
     "output_type": "stream",
     "text": [
      "Images available between 2013-09-01 and 2014-01-01:\n",
      "- In Landsat Tier 1 & Sentinel-2 Level-1C:\n",
      "  L7: 9 images\n",
      "  Total: 9 images\n",
      "- In Landsat Tier 2:\n",
      "  L7: 2 images\n",
      "  Total: 2 images\n",
      "\n",
      "Downloading images:\n",
      "L7: 9 images\n",
      "100%\n"
     ]
    }
   ],
   "source": [
    "sanJoseMetadata = SDS_download.retrieve_images(inputsSanJose)"
   ]
  },
  {
   "cell_type": "code",
   "execution_count": 5,
   "metadata": {},
   "outputs": [
    {
     "name": "stdout",
     "output_type": "stream",
     "text": [
      "Satellite images saved as .jpg in C:\\Users\\tkjie\\Documents\\GitHub\\Shoreline-Detection-Project\\Notebook\\extracted data\\San Jose L7\\jpg_files\\preprocessed\n"
     ]
    }
   ],
   "source": [
    "SDS_preprocess.save_jpg(sanJoseMetadata, settings(inputsSanJose))"
   ]
  },
  {
   "cell_type": "code",
   "execution_count": 6,
   "metadata": {},
   "outputs": [
    {
     "name": "stdout",
     "output_type": "stream",
     "text": [
      "Mapping shorelines:\n",
      "L7:   100%\n"
     ]
    }
   ],
   "source": [
    "%matplotlib qt\n",
    "sanJoseOutput = SDS_shoreline.extract_shorelines(sanJoseMetadata, settings(inputsSanJose))"
   ]
  },
  {
   "cell_type": "code",
   "execution_count": 7,
   "metadata": {},
   "outputs": [],
   "source": [
    "plotHistoricalShorelines(sanJoseOutput, 'San Jose')"
   ]
  },
  {
   "cell_type": "markdown",
   "metadata": {},
   "source": [
    "### The Philipines - Tanauan"
   ]
  },
  {
   "cell_type": "code",
   "execution_count": 2,
   "metadata": {},
   "outputs": [],
   "source": [
    "# region of interest (longitude, latitude)\n",
    "polygonTanauan = [[[11.114658, 125.017687],\n",
    "                   [11.114489, 125.026614],\n",
    "                   [11.089896, 125.025841],\n",
    "                   [11.089896, 125.015713],\n",
    "                   [11.114658, 125.017687]]]\n",
    "\n",
    "Tanauan = MapData('Tanauan', polygonTanauan, ['2013-09-01', '2014-01-01'], 'L7')\n",
    "inputsTanauan = Tanauan.getData()"
   ]
  },
  {
   "cell_type": "code",
   "execution_count": 3,
   "metadata": {
    "scrolled": true
   },
   "outputs": [
    {
     "name": "stdout",
     "output_type": "stream",
     "text": [
      "Images available between 2013-09-01 and 2014-01-01:\n",
      "- In Landsat Tier 1 & Sentinel-2 Level-1C:\n",
      "  L7: 6 images\n",
      "  Total: 6 images\n",
      "- In Landsat Tier 2:\n",
      "  L7: 1 images\n",
      "  Total: 1 images\n"
     ]
    }
   ],
   "source": [
    "SDS_download.check_images_available(inputsTanauan);"
   ]
  },
  {
   "cell_type": "code",
   "execution_count": 4,
   "metadata": {},
   "outputs": [
    {
     "name": "stdout",
     "output_type": "stream",
     "text": [
      "Images available between 2013-09-01 and 2014-01-01:\n",
      "- In Landsat Tier 1 & Sentinel-2 Level-1C:\n",
      "  L7: 6 images\n",
      "  Total: 6 images\n",
      "- In Landsat Tier 2:\n",
      "  L7: 1 images\n",
      "  Total: 1 images\n",
      "\n",
      "Downloading images:\n",
      "L7: 6 images\n",
      "100%\n"
     ]
    }
   ],
   "source": [
    "metadataTanauan = SDS_download.retrieve_images(inputsTanauan)"
   ]
  },
  {
   "cell_type": "code",
   "execution_count": 5,
   "metadata": {},
   "outputs": [
    {
     "name": "stdout",
     "output_type": "stream",
     "text": [
      "Satellite images saved as .jpg in C:\\Users\\tkjie\\Documents\\GitHub\\Shoreline-Detection-Project\\Notebook\\extracted data\\Tanauan L7\\jpg_files\\preprocessed\n"
     ]
    }
   ],
   "source": [
    "SDS_preprocess.save_jpg(metadataTanauan, settings(inputsTanauan))"
   ]
  },
  {
   "cell_type": "code",
   "execution_count": 6,
   "metadata": {},
   "outputs": [
    {
     "name": "stdout",
     "output_type": "stream",
     "text": [
      "Mapping shorelines:\n",
      "L7:   100%\n"
     ]
    }
   ],
   "source": [
    "%matplotlib qt\n",
    "TanauanOutput = SDS_shoreline.extract_shorelines(metadataTanauan, settings(inputsTanauan))"
   ]
  },
  {
   "cell_type": "code",
   "execution_count": 7,
   "metadata": {},
   "outputs": [],
   "source": [
    "plotHistoricalShorelines(TanauanOutput, 'Tanauan')"
   ]
  },
  {
   "cell_type": "code",
   "execution_count": null,
   "metadata": {},
   "outputs": [],
   "source": []
  }
 ],
 "metadata": {
  "kernelspec": {
   "display_name": "Python 3",
   "language": "python",
   "name": "python3"
  },
  "language_info": {
   "codemirror_mode": {
    "name": "ipython",
    "version": 3
   },
   "file_extension": ".py",
   "mimetype": "text/x-python",
   "name": "python",
   "nbconvert_exporter": "python",
   "pygments_lexer": "ipython3",
   "version": "3.7.9"
  }
 },
 "nbformat": 4,
 "nbformat_minor": 4
}
