{
 "cells": [
  {
   "cell_type": "code",
   "execution_count": 2,
   "metadata": {},
   "outputs": [],
   "source": [
    "import pandas as pd\n",
    "import numpy as np\n",
    "from scipy import stats\n",
    "import warnings\n",
    "warnings.filterwarnings(\"ignore\")\n",
    "import psycopg2\n",
    "import seaborn as sb\n",
    "import matplotlib.pyplot as plt\n",
    "%matplotlib qt\n",
    "plt.ion()\n",
    "\n",
    "# CoastSat\n",
    "from coastsat import SDS_download, SDS_preprocess, SDS_shoreline, SDS_tools, SDS_transects, SDS_islands\n",
    "\n",
    "# Essential functions and classes from local directory\n",
    "from MapData import *\n",
    "\n",
    "url = ''"
   ]
  },
  {
   "cell_type": "code",
   "execution_count": 2,
   "metadata": {},
   "outputs": [
    {
     "name": "stdout",
     "output_type": "stream",
     "text": [
      "1 Cuddalore, India 1\n",
      "2 Phuket, Thailand\n",
      "3 San Jose, Philippines\n",
      "4 Cuddalore, India\n",
      "5 Tanauan, Philippines\n",
      "6 TLW and TTW, Hong Kong\n",
      "\n",
      "Select location to analyse. 6\n",
      "\n",
      "Choose the satellite to use for shoreline extraction.\n",
      "1 L5\n",
      "2 L7\n",
      "3 L8\n",
      "4 S2\n",
      "4\n"
     ]
    }
   ],
   "source": [
    "query = \"SELECT DISTINCT location FROM shorelineData;\"\n",
    "\n",
    "data = getData(query, url)\n",
    "\n",
    "count = 1\n",
    "for i in data.location.values:\n",
    "    print(count, i)\n",
    "    count += 1\n",
    "    \n",
    "location = int(input('\\nSelect location to analyse. '))\n",
    "print()\n",
    "\n",
    "satellitesList = ['L5', 'L7', 'L8', 'S2']\n",
    "\n",
    "print('Choose the satellite to use for shoreline extraction.')\n",
    "for i in range(len(satellitesList)):\n",
    "    print(i+1, satellitesList[i])\n",
    "    \n",
    "satellite = satellitesList[int(input())-1]"
   ]
  },
  {
   "cell_type": "code",
   "execution_count": 3,
   "metadata": {},
   "outputs": [],
   "source": [
    "dataframe, polygon, folderName = getDataByLocation(url, data, location)\n",
    "\n",
    "locationInputs = MapData(folderName, [polygon], \n",
    "                         [str(dataframe['dates'][0])[:10], str(dataframe['dates'][len(dataframe)-1])[:10]], \n",
    "                         satellite)\n",
    "inputs = locationInputs.getData()\n",
    "\n",
    "transects, crossDistance = getTransacts(inputs, dataframe.to_dict('l'))"
   ]
  },
  {
   "cell_type": "code",
   "execution_count": 4,
   "metadata": {},
   "outputs": [],
   "source": [
    "visualiseTransacts(crossDistance, dataframe.to_dict('l'), folderName, settings(inputs)['inputs'])"
   ]
  },
  {
   "cell_type": "code",
   "execution_count": 5,
   "metadata": {},
   "outputs": [],
   "source": [
    "plotLabelledTransacts(transects, dataframe.to_dict('l'), folderName, settings(inputs)['inputs'])"
   ]
  }
 ],
 "metadata": {
  "kernelspec": {
   "display_name": "Python 3",
   "language": "python",
   "name": "python3"
  },
  "language_info": {
   "codemirror_mode": {
    "name": "ipython",
    "version": 3
   },
   "file_extension": ".py",
   "mimetype": "text/x-python",
   "name": "python",
   "nbconvert_exporter": "python",
   "pygments_lexer": "ipython3",
   "version": "3.8.5"
  }
 },
 "nbformat": 4,
 "nbformat_minor": 4
}
